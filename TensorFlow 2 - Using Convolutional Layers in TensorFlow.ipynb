{
 "cells": [
  {
   "cell_type": "markdown",
   "metadata": {},
   "source": [
    "### Review  \n",
    "-  [TensorFlow 2D convolutions](https://www.tensorflow.org/api_guides/python/nn#Convolution) i.e. the use of `tf.nn.conv2d()`  \n",
    "- [Variable](https://www.tensorflow.org/programmers_guide/variables) i.e. `tf.Variable()`\n",
    "- How to determine the dimensions of the output based on the input size and the filter size:  \n",
    "```\n",
    "new_height = (input_height - filter_height + 2 * P)/S + 1  \n",
    "new_width = (input_width - filter_width + 2 * P)/S + 1\n",
    "```"
   ]
  },
  {
   "cell_type": "markdown",
   "metadata": {},
   "source": [
    "### Instruction  \n",
    "Set up the `strides`, `padding`, filter weight (`F_w`), and filter bias(`F_b`) such that the output shape is `(1,2,2,3)`. Note that all of these except `strides` should be TensorFlow variables."
   ]
  },
  {
   "cell_type": "code",
   "execution_count": 1,
   "metadata": {},
   "outputs": [
    {
     "name": "stderr",
     "output_type": "stream",
     "text": [
      "/home/supannee/tensorflow/lib/python3.5/site-packages/h5py/__init__.py:36: FutureWarning: Conversion of the second argument of issubdtype from `float` to `np.floating` is deprecated. In future, it will be treated as `np.float64 == np.dtype(float).type`.\n",
      "  from ._conv import register_converters as _register_converters\n"
     ]
    },
    {
     "name": "stdout",
     "output_type": "stream",
     "text": [
      "(1, 2, 2, 3)\n"
     ]
    }
   ],
   "source": [
    "'''\n",
    "Set up the strides, padding and filter weight/bias such that\n",
    "the output shape is (1, 2, 2, 3).\n",
    "'''\n",
    "import tensorflow as tf\n",
    "import numpy as np\n",
    "\n",
    "# `tf.nn.conv2d` requires the input be 4D (batch_size, height, width, depth)\n",
    "# (1, 4, 4, 1)\n",
    "x = np.array([\n",
    "    [0, 1, 0.5, 10],\n",
    "    [2, 2.5, 1, -8],\n",
    "    [4, 0, 5, 6],\n",
    "    [15, 1, 2, 3]], dtype = np.float32).reshape((1,4,4,1))\n",
    "# print(x.shape) # (1, 4, 4, 1)\n",
    "X = tf.constant(x)\n",
    "\n",
    "def conv2d(input):\n",
    "    # Filter (weights and bias)\n",
    "    # The shape of the filter weight is (height, width, input_depth, output_depth)    \n",
    "    # The shape of the filter bias is (output_dpeth,)\n",
    "    # TODO: Define the filter weights `F_W` and filter bias `F_b`.\n",
    "    # NOTE: Remember to wrap them in `tf.Variable`, they are trainable parameters after all.\n",
    "    # The shape of input is (1, 4, 4, 1) --> input_depth = 1\n",
    "    # The output shape is (1, 2, 2, 3) --> output_depth = 3\n",
    "    # The output image size is 2x2 which is changed from 4x4 --> filter size = 3x3\n",
    "    # [filter_size_height, filter_size_width, color_channels, k_output]\n",
    "    F_W = tf.Variable(tf.truncated_normal([3, 3, 1, 3])) # initialise weights to random numbers\n",
    "    F_b = tf.Variable(tf.zeros(3)) # initialise bias to zeros\n",
    "    \n",
    "    # TODO: Set the stride for each dimension (batch_size, height, width, depth)\n",
    "    strides = [1,1,1,1]\n",
    "    # TODO: Set the padding, either 'VALID' or 'SAME'\n",
    "    # Because the shape of the output (2x2) differs from that of the input (4x4),\n",
    "    #   the padding is set to 'VALID'\n",
    "    padding = 'VALID'\n",
    "    # https://www.tensorflow.org/versions/r0.11/api_docs/python/nn.html#conv2d\n",
    "    # `tf.nn.conv2d` does not include the bias computation so we have to add it ourselves after.  \n",
    "    conv = tf.nn.conv2d(input, F_W, strides, padding)\n",
    "    return tf.nn.bias_add(conv, F_b)\n",
    "\n",
    "out = conv2d(X)\n",
    "print(out.shape)\n",
    "    "
   ]
  },
  {
   "cell_type": "code",
   "execution_count": null,
   "metadata": {},
   "outputs": [],
   "source": []
  }
 ],
 "metadata": {
  "kernelspec": {
   "display_name": "Python 3",
   "language": "python",
   "name": "python3"
  },
  "language_info": {
   "codemirror_mode": {
    "name": "ipython",
    "version": 3
   },
   "file_extension": ".py",
   "mimetype": "text/x-python",
   "name": "python",
   "nbconvert_exporter": "python",
   "pygments_lexer": "ipython3",
   "version": "3.5.2"
  }
 },
 "nbformat": 4,
 "nbformat_minor": 2
}
