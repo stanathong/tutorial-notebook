{
 "cells": [
  {
   "cell_type": "markdown",
   "metadata": {},
   "source": [
    "## TensorFlow Math\n",
    "\n",
    "We already know how to pass tensors objects to the TensorFlow session either constants or variables."
   ]
  },
  {
   "cell_type": "code",
   "execution_count": 1,
   "metadata": {},
   "outputs": [
    {
     "name": "stderr",
     "output_type": "stream",
     "text": [
      "/home/supannee/tensorflow/lib/python3.5/site-packages/h5py/__init__.py:36: FutureWarning: Conversion of the second argument of issubdtype from `float` to `np.floating` is deprecated. In future, it will be treated as `np.float64 == np.dtype(float).type`.\n",
      "  from ._conv import register_converters as _register_converters\n"
     ]
    },
    {
     "name": "stdout",
     "output_type": "stream",
     "text": [
      "const_value = 123\n",
      "var_value = 123\n"
     ]
    }
   ],
   "source": [
    "import tensorflow as tf\n",
    "\n",
    "# Create a 0-D TensorFlow constant object \n",
    "const_value = tf.constant(123)\n",
    "\n",
    "# Create a 0-D variable object\n",
    "var_value = tf.placeholder(tf.int32)\n",
    "\n",
    "with tf.Session() as sess:\n",
    "    # Evalute the tensor and return the result\n",
    "    output1 = sess.run(const_value)\n",
    "    output2 = sess.run(var_value, feed_dict={var_value: 123})\n",
    "    print('const_value = {}'.format(output1))\n",
    "    print('var_value = {}'.format(output2))\n",
    "\n"
   ]
  },
  {
   "cell_type": "markdown",
   "metadata": {},
   "source": [
    "Next, we are going to use math functions i.e. add, sibtract, multiply and divide, with tensors. Additional math functions can be found in the [link](https://www.tensorflow.org/api_docs/python/math_ops/)."
   ]
  },
  {
   "cell_type": "markdown",
   "metadata": {},
   "source": [
    "### Addition, Subtraction, Multiplication and Divide"
   ]
  },
  {
   "cell_type": "markdown",
   "metadata": {},
   "source": [
    "__Addition__ : `tf.add()`  \n",
    "__Subtraction__ : `tf.subtract()`  \n",
    "__Multiply__ : `tf.multiply()`  \n",
    "__Divide__ :  \n",
    "     `tf.div(a,b)` ~ `a/b`; If both `a` and `b` are integers, the output will be a floored integer. If `a` and `b` are different type i.e. float and integer, this will require type conversion.  \n",
    "     `tf.divide(a,b)` ~ `a//b`"
   ]
  },
  {
   "cell_type": "code",
   "execution_count": 2,
   "metadata": {},
   "outputs": [
    {
     "name": "stdout",
     "output_type": "stream",
     "text": [
      "tf.add(a,b) = 30\n",
      "tf.subtract(b,a) = 10\n",
      "tf.multiply(a,a) = 100\n",
      "tf.div(a,b) = 0\n",
      "tf.divide(a,b) = 0.5\n"
     ]
    }
   ],
   "source": [
    "import tensorflow as tf\n",
    "\n",
    "# Define constant\n",
    "a = tf.constant(10)\n",
    "b = tf.constant(20)\n",
    "\n",
    "# Define arithmatic operations\n",
    "x1 = tf.add(a,b) # 10+20 = 30\n",
    "x2 = tf.subtract(b,a) # 20-10 = 10\n",
    "x3 = tf.multiply(a,a) # 10*10 = 100\n",
    "x4 = tf.div(a,b) # 10//20 = 0\n",
    "x5 = tf.divide(a,b) # 10/20 = 0.5\n",
    "\n",
    "with tf.Session() as sess:\n",
    "    out1 = sess.run(x1)\n",
    "    print('tf.add(a,b) = {}'.format(out1))\n",
    "    out2 = sess.run(x2)\n",
    "    print('tf.subtract(b,a) = {}'.format(out2))\n",
    "    out3 = sess.run(x3)\n",
    "    print('tf.multiply(a,a) = {}'.format(out3))\n",
    "    out4 = sess.run(x4)\n",
    "    print('tf.div(a,b) = {}'.format(out4))\n",
    "    out5 = sess.run(x5)\n",
    "    print('tf.divide(a,b) = {}'.format(out5))\n"
   ]
  },
  {
   "cell_type": "markdown",
   "metadata": {},
   "source": [
    "The code below will show an error saying a type conversion is required.\n",
    "\n",
    "_ValueError: Tensor conversion requested dtype float32 for Tensor with dtype int32: 'Tensor(\"Const_22:0\", shape=(), dtype=int32)'_\n"
   ]
  },
  {
   "cell_type": "code",
   "execution_count": null,
   "metadata": {},
   "outputs": [],
   "source": [
    "import tensorflow as tf\n",
    "\n",
    "# Define constant\n",
    "a = tf.constant(10.0)\n",
    "b = tf.constant(20)\n",
    "\n",
    "# Define division operations\n",
    "x1 = tf.div(a,b) \n",
    "x2 = tf.divide(a,b)\n",
    "\n",
    "with tf.Session() as sess:\n",
    "    out1 = sess.run(x1)\n",
    "    print('tf.div(a,b) = {}'.format(out1))\n",
    "    out2 = sess.run(x5)\n",
    "    print('tf.divide(a,b) = {}'.format(out2))"
   ]
  },
  {
   "cell_type": "markdown",
   "metadata": {},
   "source": [
    "### Converting types\n",
    "\n",
    "The code above required a type conversions.\n",
    "\n",
    "a = tf.constant(10.0)\n",
    "b = tf.constant(20\n",
    "\n",
    "Replace `x1 = tf.div(a,b)` with `x1 = tf.div(a, tf.cast(b, tf.float32))`  \n",
    "(we could also convert to tf.float64)"
   ]
  },
  {
   "cell_type": "code",
   "execution_count": 3,
   "metadata": {},
   "outputs": [
    {
     "name": "stdout",
     "output_type": "stream",
     "text": [
      "tf.div(a,b) = 0.5\n"
     ]
    }
   ],
   "source": [
    "import tensorflow as tf\n",
    "\n",
    "a = tf.constant(10.0)\n",
    "b = tf.constant(20)\n",
    "\n",
    "x1 = tf.div(a,tf.cast(b, tf.float32)) \n",
    "\n",
    "with tf.Session() as sess:\n",
    "    out1 = sess.run(x1)\n",
    "    print('tf.div(a,b) = {}'.format(out1))"
   ]
  },
  {
   "cell_type": "markdown",
   "metadata": {},
   "source": [
    "### Quiz\n",
    "\n",
    "Convert the following code to TensorFlow and print the results of the session.  \n",
    "\n",
    "`x = 10`  \n",
    "`y = 2`  \n",
    "`z = x/y - 1`  \n"
   ]
  },
  {
   "cell_type": "code",
   "execution_count": 4,
   "metadata": {},
   "outputs": [
    {
     "name": "stdout",
     "output_type": "stream",
     "text": [
      "4.0\n"
     ]
    }
   ],
   "source": [
    "import tensorflow as tf\n",
    "\n",
    "x = tf.constant(10)\n",
    "y = tf.constant(2)\n",
    "z = tf.subtract( tf.div(tf.cast(x, tf.float32), tf.cast(y, tf.float32)), tf.cast(tf.constant(1), tf.float32))\n",
    "\n",
    "with tf.Session() as sess:\n",
    "    output = sess.run(z)\n",
    "    print(output)"
   ]
  }
 ],
 "metadata": {
  "kernelspec": {
   "display_name": "Python 3",
   "language": "python",
   "name": "python3"
  },
  "language_info": {
   "codemirror_mode": {
    "name": "ipython",
    "version": 3
   },
   "file_extension": ".py",
   "mimetype": "text/x-python",
   "name": "python",
   "nbconvert_exporter": "python",
   "pygments_lexer": "ipython3",
   "version": "3.5.2"
  }
 },
 "nbformat": 4,
 "nbformat_minor": 2
}
