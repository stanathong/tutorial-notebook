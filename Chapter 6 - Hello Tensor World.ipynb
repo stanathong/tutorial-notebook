{
 "cells": [
  {
   "cell_type": "markdown",
   "metadata": {},
   "source": [
    "## Hello, Tensor World!"
   ]
  },
  {
   "cell_type": "code",
   "execution_count": 1,
   "metadata": {
    "scrolled": true
   },
   "outputs": [
    {
     "name": "stderr",
     "output_type": "stream",
     "text": [
      "/home/supannee/tensorflow/lib/python3.5/site-packages/h5py/__init__.py:36: FutureWarning: Conversion of the second argument of issubdtype from `float` to `np.floating` is deprecated. In future, it will be treated as `np.float64 == np.dtype(float).type`.\n",
      "  from ._conv import register_converters as _register_converters\n"
     ]
    }
   ],
   "source": [
    "import tensorflow as tf\n",
    "\n",
    "# Create TensorFlow object called hello_constant\n",
    "hello_constant = tf.constant('Hello World!')\n",
    "\n",
    "with tf.Session() as sess:\n",
    "    # Run the tf.constant operation in the session\n",
    "    output = sess.run(hello_constant)\n"
   ]
  },
  {
   "cell_type": "code",
   "execution_count": 2,
   "metadata": {},
   "outputs": [
    {
     "name": "stdout",
     "output_type": "stream",
     "text": [
      "b'Hello World!'\n"
     ]
    }
   ],
   "source": [
    "# To get rid of the above warnings\n",
    "import os\n",
    "os.environ[\"TF_CPP_MIN_LOG_LEVEL\"]=\"3\"\n",
    "\n",
    "import tensorflow as tf\n",
    "\n",
    "# Create TensorFlow object called hello_constant\n",
    "hello_constant = tf.constant('Hello World!')\n",
    "\n",
    "with tf.Session() as sess:\n",
    "    # Run the tf.constant operation in the session\n",
    "    output = sess.run(hello_constant)\n",
    "    print(output)"
   ]
  },
  {
   "cell_type": "markdown",
   "metadata": {},
   "source": [
    "### Tensor\n",
    "In TensorFlow, data isn't stored as integers, floats, or strings. These values are encapsulated in an object called a __tensor__. In this case, `hello_constant = tf.constant('Hello World!')`, `hello_constant` is a 0-dimensional string tensor.\n",
    "\n",
    "A constant tensor, returned by `tf.constant()`, has a constant value, which is never changed."
   ]
  },
  {
   "cell_type": "code",
   "execution_count": 3,
   "metadata": {},
   "outputs": [
    {
     "name": "stdout",
     "output_type": "stream",
     "text": [
      "()\n",
      "(3,)\n",
      "(2, 3)\n",
      "(2, 2, 4)\n",
      "(2, 1, 3, 2)\n"
     ]
    }
   ],
   "source": [
    "# A is a 0-dimensional int32 tensor\n",
    "A = tf.constant(1234)\n",
    "print(A.get_shape())\n",
    "\n",
    "# B is a 1-dimensional int32 tensor\n",
    "B = tf.constant([1, 2, 3])\n",
    "print(B.get_shape())\n",
    "\n",
    "# C is a 2-demensional int32 tensor\n",
    "C = tf.constant([[1,2,3],[4,5,6]])\n",
    "print(C.get_shape())\n",
    "\n",
    "# D is a 3-dimensional int32 tensor\n",
    "D = tf.constant([[[1,2,3,4],[1,2,3,4]],[[5,6,7,8],[5,6,7,8]]])\n",
    "print(D.get_shape())\n",
    "\n",
    "# E is a 4-dimensional int32 tensor \n",
    "E = tf.constant([[[[1,1],[2,2],[3,3]]],[[[4,4],[5,5],[6,6]]]]) # (2x1x3x2)\n",
    "print(E.get_shape())"
   ]
  },
  {
   "cell_type": "markdown",
   "metadata": {},
   "source": [
    "### Session\n",
    "TensorFlow's api is built around the idea of a computational graph. A _TensorFlow Session_ is an environment for running a graph. The session is in charge of allocating the operations to GPU(s) and/or CPU(s).\n",
    "\n",
    "```\n",
    "# a session instance is created using tf.Session\n",
    "with tf.Session as sess: \n",
    "   # sess.run() evaluates the tensor and returns the results\n",
    "   output = sess.run(hello_constant) \n",
    "   print(output)\n",
    "```"
   ]
  }
 ],
 "metadata": {
  "kernelspec": {
   "display_name": "Python 3",
   "language": "python",
   "name": "python3"
  },
  "language_info": {
   "codemirror_mode": {
    "name": "ipython",
    "version": 3
   },
   "file_extension": ".py",
   "mimetype": "text/x-python",
   "name": "python",
   "nbconvert_exporter": "python",
   "pygments_lexer": "ipython3",
   "version": "3.5.2"
  }
 },
 "nbformat": 4,
 "nbformat_minor": 2
}
