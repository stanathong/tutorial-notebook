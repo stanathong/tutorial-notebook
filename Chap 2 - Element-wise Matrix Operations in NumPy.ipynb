{
 "cells": [
  {
   "cell_type": "markdown",
   "metadata": {},
   "source": [
    "In Python, what do we do when we want to add a number to every item in the list?"
   ]
  },
  {
   "cell_type": "code",
   "execution_count": 1,
   "metadata": {},
   "outputs": [
    {
     "name": "stdout",
     "output_type": "stream",
     "text": [
      "[11, 12, 13, 14, 15]\n"
     ]
    }
   ],
   "source": [
    "number = 10\n",
    "v = [1,2,3,4,5] # len(v) = 5\n",
    "for i in range(len(v)): #range(len(v)) = range(0,5)\n",
    "    v[i] += number\n",
    "print(v)    "
   ]
  },
  {
   "cell_type": "markdown",
   "metadata": {},
   "source": [
    "In NumPy, the code above can be done by"
   ]
  },
  {
   "cell_type": "code",
   "execution_count": 2,
   "metadata": {},
   "outputs": [
    {
     "name": "stdout",
     "output_type": "stream",
     "text": [
      "[11 12 13 14 15]\n"
     ]
    }
   ],
   "source": [
    "# NumPy's array\n",
    "\n",
    "import numpy as np\n",
    "\n",
    "number = 10\n",
    "v = np.array([1,2,3,4,5]) + number\n",
    "print(v)"
   ]
  },
  {
   "cell_type": "code",
   "execution_count": 3,
   "metadata": {
    "scrolled": true
   },
   "outputs": [
    {
     "name": "stdout",
     "output_type": "stream",
     "text": [
      "Shape of v1: (5,)\n",
      "Shape of v2: (1, 2, 3, 4, 5)\n"
     ]
    }
   ],
   "source": [
    "# NB v1 != v2\n",
    "v1 = np.array([1,2,3,4,5])\n",
    "v2 = np.ndarray([1,2,3,4,5])\n",
    "#print('v1:', v1)\n",
    "#print('v2:', v2)\n",
    "print('Shape of v1:', v1.shape)\n",
    "print('Shape of v2:', v2.shape)"
   ]
  },
  {
   "cell_type": "code",
   "execution_count": 4,
   "metadata": {},
   "outputs": [
    {
     "name": "stdout",
     "output_type": "stream",
     "text": [
      "type(v1): <class 'numpy.ndarray'>\n",
      "type(v2): <class 'numpy.ndarray'>\n",
      "v1 is instance of ndarray: True\n"
     ]
    }
   ],
   "source": [
    "# NB the type of NumPy array is ndarray\n",
    "print('type(v1):', type(v1))\n",
    "print('type(v2):', type(v2))\n",
    "print('v1 is instance of ndarray:', isinstance(v1, np.ndarray))"
   ]
  },
  {
   "cell_type": "markdown",
   "metadata": {},
   "source": [
    "NumPy has functions such as add, multiply etc but also supports using the standard math operators."
   ]
  },
  {
   "cell_type": "code",
   "execution_count": 5,
   "metadata": {},
   "outputs": [
    {
     "name": "stdout",
     "output_type": "stream",
     "text": [
      "x: [[10 20 30 40 50]]\n",
      "y: [[10 20 30 40 50]]\n",
      "v.shape:  (1, 5)\n",
      "w.shape:  (5, 2)\n",
      "z.shape:  (1, 2)\n"
     ]
    }
   ],
   "source": [
    "v = np.array([1,2,3,4,5]) # shape: (5,)\n",
    "v = v.reshape(1,5) # 1x5\n",
    "w = np.array([[1,0],[0,1],[0,0],[1,1],[1,1]]) # 5x2\n",
    "\n",
    "# Multiply matrix with a scalar\n",
    "x = np.multiply(v, number)\n",
    "y = v * number\n",
    "print('x:', x)\n",
    "print('y:', y)\n",
    "\n",
    "# Matrix multiplication\n",
    "print('v.shape: ', v.shape)\n",
    "print('w.shape: ', w.shape)\n",
    "# multiply\n",
    "z = np.matmul(v,w)\n",
    "print('z.shape: ', z.shape)"
   ]
  },
  {
   "cell_type": "markdown",
   "metadata": {},
   "source": [
    "To reset a matrix to zero, we simply multiply it with zero and assign the result back to the matrix."
   ]
  },
  {
   "cell_type": "code",
   "execution_count": 6,
   "metadata": {},
   "outputs": [
    {
     "name": "stdout",
     "output_type": "stream",
     "text": [
      "x: [[10 20 30 40 50]]\n",
      "x: [[0 0 0 0 0]]\n"
     ]
    }
   ],
   "source": [
    "print('x:', x)\n",
    "\n",
    "# Reset the matrix\n",
    "x *= 0\n",
    "print('x:', x)"
   ]
  },
  {
   "cell_type": "markdown",
   "metadata": {},
   "source": [
    "### Element-wise Matrix Operations\n",
    "When we do `v *= v`, it works beause it's an element-wise multiplication!"
   ]
  },
  {
   "cell_type": "code",
   "execution_count": 7,
   "metadata": {},
   "outputs": [
    {
     "name": "stdout",
     "output_type": "stream",
     "text": [
      "v: [[1 2 3 4 5]]\n",
      "v: [[ 1  4  9 16 25]]\n"
     ]
    }
   ],
   "source": [
    "print('v:', v)\n",
    "v *= v # square\n",
    "print('v:', v)"
   ]
  },
  {
   "cell_type": "markdown",
   "metadata": {},
   "source": [
    "However, when we do matrix operation, we have to consider whether the __shapes__ of the matrices are __compatible__."
   ]
  },
  {
   "cell_type": "code",
   "execution_count": 8,
   "metadata": {},
   "outputs": [
    {
     "name": "stdout",
     "output_type": "stream",
     "text": [
      "a + b =\n",
      " [[2 2]\n",
      " [3 5]]\n",
      "a * b =\n",
      " [[1 0]\n",
      " [0 4]]\n"
     ]
    }
   ],
   "source": [
    "# Another example\n",
    "a = np.array([[1,2],[3,4]])\n",
    "b = np.array([[1,0],[0,1]])\n",
    "print('a + b =\\n', (a+b))\n",
    "print('a * b =\\n', (a*b))"
   ]
  },
  {
   "cell_type": "code",
   "execution_count": null,
   "metadata": {},
   "outputs": [],
   "source": []
  }
 ],
 "metadata": {
  "kernelspec": {
   "display_name": "Python 3",
   "language": "python",
   "name": "python3"
  },
  "language_info": {
   "codemirror_mode": {
    "name": "ipython",
    "version": 3
   },
   "file_extension": ".py",
   "mimetype": "text/x-python",
   "name": "python",
   "nbconvert_exporter": "python",
   "pygments_lexer": "ipython3",
   "version": "3.5.2"
  }
 },
 "nbformat": 4,
 "nbformat_minor": 2
}
