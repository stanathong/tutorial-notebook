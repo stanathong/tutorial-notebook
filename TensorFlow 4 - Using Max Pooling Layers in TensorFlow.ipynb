{
 "cells": [
  {
   "cell_type": "markdown",
   "metadata": {},
   "source": [
    "Lesson 3: CNNs in TensorFlow  \n",
    "Section 5. Quiz: Max Pooling Layers\n",
    "\n",
    "### Instructions  \n",
    "Set up the `strides`, `padding` and `ksize` such that the output shape after pooling is `(1, 2, 2, 1)`. "
   ]
  },
  {
   "cell_type": "code",
   "execution_count": 2,
   "metadata": {},
   "outputs": [
    {
     "name": "stdout",
     "output_type": "stream",
     "text": [
      "(1, 2, 2, 1)\n"
     ]
    }
   ],
   "source": [
    "'''\n",
    "Set the values to `strides` and `ksize` such that\n",
    "the output shape after pooling is (1, 2, 2, 1)\n",
    "'''\n",
    "import tensorflow as tf\n",
    "import numpy as np\n",
    "\n",
    "### tf.nn.max_pool requires the input to be 4D (batch_size, height, width, dept)\n",
    "# (1, 4, 4, 1)\n",
    "x = np.array([\n",
    "    [0, 1, 2, 3],\n",
    "    [4, 5.5, 6, -8],\n",
    "    [9.1, 10, 11, -12],\n",
    "    [13, 14, 15.5, 16]], dtype = np.float32).reshape((1,4,4,1))\n",
    "X = tf.constant(x)\n",
    "# print(X.shape) # (1, 4, 4, 1)\n",
    "\n",
    "def maxpool(input):\n",
    "    # Set the ksize (filter size) for each dimension (batch_size, height, width, depth)\n",
    "    ksize = [1,2,2,1]\n",
    "    # Set the strides for each dimension (batch_size, height, width, depth)\n",
    "    strides = [1,2,2,1]\n",
    "    # Set the padding, either 'VALID' or 'SAME'\n",
    "    padding = 'VALID'\n",
    "    return tf.nn.max_pool(input, ksize, strides, padding)\n",
    "\n",
    "out = maxpool(X)\n",
    "print(out.shape)"
   ]
  }
 ],
 "metadata": {
  "kernelspec": {
   "display_name": "Python 3",
   "language": "python",
   "name": "python3"
  },
  "language_info": {
   "codemirror_mode": {
    "name": "ipython",
    "version": 3
   },
   "file_extension": ".py",
   "mimetype": "text/x-python",
   "name": "python",
   "nbconvert_exporter": "python",
   "pygments_lexer": "ipython3",
   "version": "3.5.2"
  }
 },
 "nbformat": 4,
 "nbformat_minor": 2
}
