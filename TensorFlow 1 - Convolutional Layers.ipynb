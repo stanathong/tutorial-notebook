{
 "cells": [
  {
   "cell_type": "markdown",
   "metadata": {},
   "source": [
    "## Convolutional Layers in TensorFlow  \n",
    "\n",
    "TensorFlow provides the `tf.nn.conv2d()`, `tf.nn.bias_add()`, and `tf.nn.relu()` functions to create our own convlutional layers."
   ]
  },
  {
   "cell_type": "code",
   "execution_count": null,
   "metadata": {},
   "outputs": [],
   "source": [
    "import tensorflow as tf\n",
    "\n",
    "# input/image\n",
    "input = tf.placeholder(\n",
    "    tf.float32, \n",
    "    shape=[None, image_height, image_width, color_channels])"
   ]
  },
  {
   "cell_type": "markdown",
   "metadata": {},
   "source": [
    "We define a placeholder for input of type `float32`. The shape of the input is defined as $NxHxWxC$ in which $N$ is batch size, $HxW$ is the height and width of images (same size across the batch) and $C$ is the number of image channges i.e. 3 for an RGB image.  \n",
    "\n",
    "Note that in __Caffe__, the shape of the input is $NxCxHxW$."
   ]
  },
  {
   "cell_type": "code",
   "execution_count": null,
   "metadata": {},
   "outputs": [],
   "source": [
    "# convolution filter dimensions\n",
    "filter_size_width = 5\n",
    "filter_size_height = 5\n",
    "\n",
    "# weight and bias\n",
    "weight = tf.Variable(\n",
    "    tf.truncated_normal([filter_size_height, filter_size_width, color_channels, k_output]))\n",
    "bias = tf.Variable(tf.zeros(k_output))"
   ]
  },
  {
   "cell_type": "markdown",
   "metadata": {},
   "source": [
    "We define weight and bias as variables as they will be changed.  \n",
    "  \n",
    "`weight` is constructed using `tf.truncated_normal()`. \n",
    "\n",
    "From the [TensorFlow document](https://www.tensorflow.org/api_docs/python/tf/truncated_normal), `tf.truncated_normal()` outputs a tensor of the specified shape filled with random values from a truncated normal distribution. That is the generated values follow _a normal distribution with specified mean and standard deviation_, except that values whose magnitude is more than 2 standard deviations from the mean are dropped and re-picked.  \n",
    "\n",
    "The constructor of the `tf.truncated_normal()` is defined as  \n",
    "```\n",
    "tf.truncated_normal(  \n",
    "  shape,  \n",
    "  mean=0.0,  \n",
    "  stddev=1.0,  \n",
    "  dtype=tf.float32,  \n",
    "  seed=None,  \n",
    "  name=None  \n",
    ")\n",
    "```"
   ]
  },
  {
   "cell_type": "code",
   "execution_count": null,
   "metadata": {},
   "outputs": [],
   "source": [
    "# apply convolution\n",
    "conv_layer = tf.nn.conv2d(input, weight, strides=[1,2,2,1], padding='SAME')\n",
    "# add bias\n",
    "conv_layer = tf.nn.bias_add(conv_layer, bias)\n",
    "# apply activation function\n",
    "conv_layer = tf.nn.relu(conv_layer)"
   ]
  },
  {
   "cell_type": "markdown",
   "metadata": {},
   "source": [
    "The code above is similar to the math notation `conv = relu(input * weight + bias)`.  \n",
    "We use the `tf.nn.conv2d()` function to compute the convolution with `weight` in which the strides are `[1,2,2,1]` i.e. the stride for the image is 2 in the `x` and `y` direction.\n",
    "-  TensorFlow uses a stride for each `input` dimension, stride: `[batch, input_height, input_width, input_channels]`.\n",
    "-  The stride for `batch` and `input_channel` are always set to 1. This ensures that the model uses all batches and input channels.\n",
    "-  The input_height and input_width strides are for striding the filter over `input`. In the code above, we uses a stride of 2 with 5x5 over `input`."
   ]
  }
 ],
 "metadata": {
  "kernelspec": {
   "display_name": "Python 3",
   "language": "python",
   "name": "python3"
  },
  "language_info": {
   "codemirror_mode": {
    "name": "ipython",
    "version": 3
   },
   "file_extension": ".py",
   "mimetype": "text/x-python",
   "name": "python",
   "nbconvert_exporter": "python",
   "pygments_lexer": "ipython3",
   "version": "3.5.2"
  }
 },
 "nbformat": 4,
 "nbformat_minor": 2
}
