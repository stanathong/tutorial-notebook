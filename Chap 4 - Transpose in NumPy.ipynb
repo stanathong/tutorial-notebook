{
 "cells": [
  {
   "cell_type": "markdown",
   "metadata": {},
   "source": [
    "## Transpose in NumPy\n",
    "\n",
    "In NumPy, we can obtain the transpose of a matrix by accessing its `T` attribute or using a `transpose()` function.\n"
   ]
  },
  {
   "cell_type": "code",
   "execution_count": 1,
   "metadata": {},
   "outputs": [
    {
     "name": "stdout",
     "output_type": "stream",
     "text": [
      "m:\n",
      " [[  1   2]\n",
      " [ 10  20]\n",
      " [100 200]]\n",
      "transpose of m:\n",
      " [[  1  10 100]\n",
      " [  2  20 200]]\n"
     ]
    }
   ],
   "source": [
    "import numpy as np\n",
    "\n",
    "m = np.array([[1,2],[10,20],[100,200]]) # 3x2\n",
    "print('m:\\n', m)\n",
    "print('transpose of m:\\n', m.T) # m.T is the transpose of m"
   ]
  },
  {
   "cell_type": "markdown",
   "metadata": {},
   "source": [
    "Note that no data in the memory is moving. It simply changes the way it indexes the original matrix. That is `m` and `m.T` are __sharing the same data__."
   ]
  },
  {
   "cell_type": "code",
   "execution_count": 2,
   "metadata": {
    "scrolled": true
   },
   "outputs": [
    {
     "name": "stdout",
     "output_type": "stream",
     "text": [
      "m_t:\n",
      " [[  1  10 100]\n",
      " [ -2  20 200]]\n",
      "m:\n",
      " [[  1  -2]\n",
      " [ 10  20]\n",
      " [100 200]]\n"
     ]
    }
   ],
   "source": [
    "m_t = m.T\n",
    "m_t[1][0] = -2 # m_t[1][0] = 2\n",
    "print('m_t:\\n', m_t)\n",
    "print('m:\\n', m)"
   ]
  },
  {
   "cell_type": "markdown",
   "metadata": {},
   "source": [
    "### A real use case in neural network\n",
    "If we have two matrices called `inputs` and `weights`"
   ]
  },
  {
   "cell_type": "code",
   "execution_count": 3,
   "metadata": {},
   "outputs": [
    {
     "name": "stdout",
     "output_type": "stream",
     "text": [
      "inputs:\n",
      " [[1 2 3 4]]\n",
      "inputs shape: (1, 4)\n",
      "weights:\n",
      " [[ 0.1   0.2   0.3   0.4 ]\n",
      " [-0.1  -0.2  -0.3  -0.4 ]\n",
      " [ 0.01  0.02  0.03  0.04]]\n",
      "weights shape:\n",
      " (3, 4)\n"
     ]
    }
   ],
   "source": [
    "inputs = np.array([[1,2,3,4]])\n",
    "print('inputs:\\n', inputs)\n",
    "print('inputs shape:', inputs.shape)\n",
    "\n",
    "weights = np.array([[0.1,0.2,0.3,0.4],\\\n",
    "                    [-0.1,-0.2,-0.3,-0.4],\\\n",
    "                    [0.01, 0.02, 0.03, 0.04]]) # 3x3\n",
    "print('weights:\\n', weights)\n",
    "print('weights shape:\\n', weights.shape)"
   ]
  },
  {
   "cell_type": "markdown",
   "metadata": {},
   "source": [
    "What can we do if we want to find the matrix product of these two matrices? This is because with their current shape, they are incompatible."
   ]
  },
  {
   "cell_type": "code",
   "execution_count": 4,
   "metadata": {
    "scrolled": false
   },
   "outputs": [
    {
     "ename": "ValueError",
     "evalue": "shapes (1,4) and (3,4) not aligned: 4 (dim 1) != 3 (dim 0)",
     "output_type": "error",
     "traceback": [
      "\u001b[0;31m---------------------------------------------------------------------------\u001b[0m",
      "\u001b[0;31mValueError\u001b[0m                                Traceback (most recent call last)",
      "\u001b[0;32m<ipython-input-4-6e050fb6601d>\u001b[0m in \u001b[0;36m<module>\u001b[0;34m()\u001b[0m\n\u001b[0;32m----> 1\u001b[0;31m \u001b[0mnp\u001b[0m\u001b[0;34m.\u001b[0m\u001b[0mmatmul\u001b[0m\u001b[0;34m(\u001b[0m\u001b[0minputs\u001b[0m\u001b[0;34m,\u001b[0m \u001b[0mweights\u001b[0m\u001b[0;34m)\u001b[0m\u001b[0;34m\u001b[0m\u001b[0m\n\u001b[0m",
      "\u001b[0;31mValueError\u001b[0m: shapes (1,4) and (3,4) not aligned: 4 (dim 1) != 3 (dim 0)"
     ]
    }
   ],
   "source": [
    "np.matmul(inputs, weights)"
   ]
  },
  {
   "cell_type": "markdown",
   "metadata": {},
   "source": [
    "What if we transpose the weight matrix. (Note: this works!)"
   ]
  },
  {
   "cell_type": "code",
   "execution_count": 5,
   "metadata": {
    "scrolled": true
   },
   "outputs": [
    {
     "name": "stdout",
     "output_type": "stream",
     "text": [
      "inputs:\n",
      " [[1 2 3 4]]\n",
      "inputs shape: (1, 4)\n",
      "weights:\n",
      " [[ 0.1   0.2   0.3   0.4 ]\n",
      " [-0.1  -0.2  -0.3  -0.4 ]\n",
      " [ 0.01  0.02  0.03  0.04]]\n",
      "weights_t:\n",
      " [[ 0.1  -0.1   0.01]\n",
      " [ 0.2  -0.2   0.02]\n",
      " [ 0.3  -0.3   0.03]\n",
      " [ 0.4  -0.4   0.04]]\n",
      "weights_t shape:\n",
      " (4, 3)\n",
      "results:\n",
      " [[ 3.  -3.   0.3]]\n"
     ]
    }
   ],
   "source": [
    "inputs = np.array([[1,2,3,4]])\n",
    "print('inputs:\\n', inputs)\n",
    "print('inputs shape:', inputs.shape)\n",
    "\n",
    "weights = np.array([[0.1,0.2,0.3,0.4],\\\n",
    "                    [-0.1,-0.2,-0.3,-0.4],\\\n",
    "                    [0.01, 0.02, 0.03, 0.04]]) # 3x4\n",
    "weights_t = weights.T\n",
    "print('weights:\\n', weights)\n",
    "print('weights_t:\\n', weights_t)\n",
    "print('weights_t shape:\\n', weights_t.shape)\n",
    "\n",
    "# Then compute the matrix product\n",
    "results = np.matmul(inputs, weights.T)\n",
    "print('results:\\n', results)"
   ]
  },
  {
   "cell_type": "markdown",
   "metadata": {},
   "source": [
    "Another possible solutions is by taking the _transpose_ of `inputs` (i.e. `4x1`) then swap their order. (Note, this also works)"
   ]
  },
  {
   "cell_type": "code",
   "execution_count": 6,
   "metadata": {},
   "outputs": [
    {
     "name": "stdout",
     "output_type": "stream",
     "text": [
      "weights:\n",
      " [[ 0.1   0.2   0.3   0.4 ]\n",
      " [-0.1  -0.2  -0.3  -0.4 ]\n",
      " [ 0.01  0.02  0.03  0.04]]\n",
      "weights shape:\n",
      " (3, 4)\n",
      "inputs:\n",
      " [[1 2 3 4]]\n",
      "inputs_t:\n",
      " [[1]\n",
      " [2]\n",
      " [3]\n",
      " [4]]\n",
      "inputs_t shape: (4, 1)\n",
      "results:\n",
      " [[ 3. ]\n",
      " [-3. ]\n",
      " [ 0.3]]\n"
     ]
    }
   ],
   "source": [
    "weights = np.array([[0.1,0.2,0.3,0.4],\\\n",
    "                    [-0.1,-0.2,-0.3,-0.4],\\\n",
    "                    [0.01, 0.02, 0.03, 0.04]]) # 3x4\n",
    "print('weights:\\n', weights)\n",
    "print('weights shape:\\n', weights.shape)\n",
    "\n",
    "inputs = np.array([[1,2,3,4]])\n",
    "inputs_t = inputs.T\n",
    "print('inputs:\\n', inputs)\n",
    "print('inputs_t:\\n', inputs_t)\n",
    "print('inputs_t shape:', inputs_t.shape) # 4x1\n",
    "\n",
    "# Then compute the matrix product\n",
    "results = np.matmul(weights, inputs.T)\n",
    "print('results:\\n', results)"
   ]
  },
  {
   "cell_type": "markdown",
   "metadata": {},
   "source": [
    "Both solutions work, so which solution to choose is depends on how we want the shape of the output to be."
   ]
  },
  {
   "cell_type": "code",
   "execution_count": null,
   "metadata": {},
   "outputs": [],
   "source": []
  }
 ],
 "metadata": {
  "kernelspec": {
   "display_name": "Python 3",
   "language": "python",
   "name": "python3"
  },
  "language_info": {
   "codemirror_mode": {
    "name": "ipython",
    "version": 3
   },
   "file_extension": ".py",
   "mimetype": "text/x-python",
   "name": "python",
   "nbconvert_exporter": "python",
   "pygments_lexer": "ipython3",
   "version": "3.5.2"
  }
 },
 "nbformat": 4,
 "nbformat_minor": 2
}
