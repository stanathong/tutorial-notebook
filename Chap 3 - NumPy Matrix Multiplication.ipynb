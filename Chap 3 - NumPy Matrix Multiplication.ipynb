{
 "cells": [
  {
   "cell_type": "markdown",
   "metadata": {},
   "source": [
    "## NumPy Matrix Multiplication\n",
    "### Element-wise Multiplication \n",
    "This can be accomplished by the __multiply__ function or the `*` operator."
   ]
  },
  {
   "cell_type": "code",
   "execution_count": 1,
   "metadata": {},
   "outputs": [
    {
     "name": "stdout",
     "output_type": "stream",
     "text": [
      "m:\n",
      " [[1 2 3]\n",
      " [4 5 6]]\n",
      "n\n",
      " [[0.25 0.5  0.75]\n",
      " [1.   1.25 1.5 ]]\n",
      "m * n:\n",
      " [[0.25 1.   2.25]\n",
      " [4.   6.25 9.  ]]\n",
      "np.multiply(m,n):\n",
      " [[0.25 1.   2.25]\n",
      " [4.   6.25 9.  ]]\n"
     ]
    }
   ],
   "source": [
    "import numpy as np\n",
    "\n",
    "m = np.array([[1,2,3],[4,5,6]]) # 2x3 matrix\n",
    "print('m:\\n', m)\n",
    "\n",
    "n = m * 0.25 # multiply with a scalar\n",
    "print('n\\n', n)\n",
    "\n",
    "# multiply 2 matrices in the element-wise manner\n",
    "# method#1\n",
    "mn1 = m * n\n",
    "print('m * n:\\n', mn1)\n",
    "# method#2\n",
    "mn2 = np.multiply(m, n)\n",
    "print('np.multiply(m,n):\\n', mn2)\n"
   ]
  },
  {
   "cell_type": "markdown",
   "metadata": {},
   "source": [
    "### Matrix Product\n",
    "This can be accomplished by NumPy's __matmul__ function. However, the function expects the matrices have compatible shapes."
   ]
  },
  {
   "cell_type": "code",
   "execution_count": 2,
   "metadata": {},
   "outputs": [
    {
     "name": "stdout",
     "output_type": "stream",
     "text": [
      "a:\n",
      " [[1 2 3]\n",
      " [1 2 3]]\n",
      "a.shape: (2, 3)\n",
      "b:\n",
      " [[  1]\n",
      " [ 10]\n",
      " [100]]\n",
      "b.shape: (3, 1)\n",
      "c:\n",
      " [[321]\n",
      " [321]]\n",
      "c.shape: (2, 1)\n"
     ]
    }
   ],
   "source": [
    "a = np.array([[1,2,3],[1,2,3]]) # 2x3\n",
    "print('a:\\n', a)\n",
    "print('a.shape:', a.shape)\n",
    "\n",
    "b = np.array([[1],[10],[100]]) # 3x1\n",
    "print('b:\\n', b)\n",
    "print('b.shape:', b.shape)\n",
    "\n",
    "# Compute the matrix product\n",
    "c = np.matmul(a,b)\n",
    "print('c:\\n', c)\n",
    "print('c.shape:', c.shape)"
   ]
  },
  {
   "cell_type": "markdown",
   "metadata": {},
   "source": [
    "### NumPy's `dot` function\n",
    "\n",
    "If the matrices are two dimensions, the results of `dot` and `matmul` are the same."
   ]
  },
  {
   "cell_type": "code",
   "execution_count": 3,
   "metadata": {
    "scrolled": true
   },
   "outputs": [
    {
     "name": "stdout",
     "output_type": "stream",
     "text": [
      "a:\n",
      " [[  1   0   0]\n",
      " [  0  10   0]\n",
      " [  0   0 100]]\n",
      "np.dot(a,a):\n",
      " [[    1     0     0]\n",
      " [    0   100     0]\n",
      " [    0     0 10000]]\n",
      "np.matmul(a,a):\n",
      " [[    1     0     0]\n",
      " [    0   100     0]\n",
      " [    0     0 10000]]\n"
     ]
    }
   ],
   "source": [
    "a = np.array([[1,0,0],[0,10,0],[0,0,100]]) # 3x3\n",
    "print('a:\\n', a)\n",
    "\n",
    "# dot product\n",
    "b = np.dot(a,a)\n",
    "print('np.dot(a,a):\\n', b)\n",
    "\n",
    "# matmul\n",
    "c = np.matmul(a,a)\n",
    "print('np.matmul(a,a):\\n', c)"
   ]
  },
  {
   "cell_type": "code",
   "execution_count": null,
   "metadata": {},
   "outputs": [],
   "source": []
  }
 ],
 "metadata": {
  "kernelspec": {
   "display_name": "Python 3",
   "language": "python",
   "name": "python3"
  },
  "language_info": {
   "codemirror_mode": {
    "name": "ipython",
    "version": 3
   },
   "file_extension": ".py",
   "mimetype": "text/x-python",
   "name": "python",
   "nbconvert_exporter": "python",
   "pygments_lexer": "ipython3",
   "version": "3.5.2"
  }
 },
 "nbformat": 4,
 "nbformat_minor": 2
}
