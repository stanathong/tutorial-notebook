{
 "cells": [
  {
   "cell_type": "markdown",
   "metadata": {},
   "source": [
    " To import the [NumPy](https://docs.scipy.org/doc/numpy/reference/) library, we mostly do like this."
   ]
  },
  {
   "cell_type": "code",
   "execution_count": 1,
   "metadata": {},
   "outputs": [],
   "source": [
    "import numpy as np"
   ]
  },
  {
   "cell_type": "markdown",
   "metadata": {},
   "source": [
    "At this point, we can use the library by typing `np.`"
   ]
  },
  {
   "cell_type": "markdown",
   "metadata": {},
   "source": [
    "### Data Types and Shapes\n",
    "\n",
    "The most common way to work with numbers in NumPy is through [ndarray](https://docs.scipy.org/doc/numpy/reference/arrays.html) object. They are similar to Python lists but can have _any number of dimensions_. We can use `ndarray`s to represent: scalars, vectors, matrices or tensors."
   ]
  },
  {
   "cell_type": "code",
   "execution_count": 6,
   "metadata": {},
   "outputs": [
    {
     "name": "stdout",
     "output_type": "stream",
     "text": [
      "[[140704807578552 140704807578552 140704749419856]\n",
      " [140704811679280        10919456        10919488]]\n",
      "shape: (2, 3)\n",
      "size: 6\n",
      "Reshape to (1,6):\n",
      "[[140704807578552 140704807578552 140704749419856 140704811679280\n",
      "         10919456        10919488]]\n"
     ]
    }
   ],
   "source": [
    "ndarray1 = np.ndarray(shape=(2,3), dtype=int, order='C') #'C' indicates row-major\n",
    "print(ndarray1)\n",
    "print('shape: {}'.format(ndarray1.shape))\n",
    "print('size: {}'.format(ndarray1.size))\n",
    "# Reshape to (1,6)\n",
    "ndarray1.shape = 1,6\n",
    "print('Reshape to (1,6):\\n{}'.format(ndarray1))"
   ]
  },
  {
   "cell_type": "code",
   "execution_count": 8,
   "metadata": {},
   "outputs": [
    {
     "name": "stdout",
     "output_type": "stream",
     "text": [
      "[[   140704807578536  72059256190493952 316659363194536067]\n",
      " [  1517326119993346           43035040 460494162802771556]]\n",
      "shape: (2, 3)\n",
      "size: 6\n"
     ]
    }
   ],
   "source": [
    "ndarray2 = np.ndarray(shape=(2,3), dtype=int, order='F') # 'F' indicates column-major\n",
    "print(ndarray2)\n",
    "print('shape: {}'.format(ndarray2.shape))\n",
    "print('size: {}'.format(ndarray2.size))"
   ]
  },
  {
   "cell_type": "markdown",
   "metadata": {},
   "source": [
    "### Scalars in NumPy\n",
    "There are more variety for Sclars in NumPy. For example, instead of Python's `int`, we have access to types like `uint8`, `int8`, `uint16`, `int16`, and so on.\n",
    "\n",
    "Note that when we create a NumPy array, we can specify the type but __every item in the array must have the same type__. That is NumPy arrays are more like C arrays than Python lists.\n",
    "\n",
    "To create a NumPy array that holds a scalar, we can do by passing a value to NumPy's `array` function:"
   ]
  },
  {
   "cell_type": "code",
   "execution_count": 14,
   "metadata": {},
   "outputs": [
    {
     "name": "stdout",
     "output_type": "stream",
     "text": [
      "Type of s1: <class 'numpy.ndarray'>\n",
      "Type of s2: <class 'numpy.ndarray'>\n",
      "Shape of s1: ()\n",
      "Shape of s2: ()\n"
     ]
    }
   ],
   "source": [
    "s1 = np.array(10)\n",
    "s2 = np.array(3.5)\n",
    "print('Type of s1: {}'.format(type(s1)))\n",
    "print('Type of s2: {}'.format(type(s2)))\n",
    "print('Shape of s1: {}'.format(s1.shape)) # 0 dimension\n",
    "print('Shape of s2: {}'.format(s2.shape)) # 0 dimension"
   ]
  },
  {
   "cell_type": "markdown",
   "metadata": {},
   "source": [
    "We can still perform math between `ndarray`s, NumPy scalars, and normal Python scalars.\n",
    "\n",
    "They say even though scalars are insdie arrays, we can still use them like a normal scalar. Let's try"
   ]
  },
  {
   "cell_type": "code",
   "execution_count": 17,
   "metadata": {},
   "outputs": [
    {
     "name": "stdout",
     "output_type": "stream",
     "text": [
      "x1 = 30\n",
      "x2 = 6.0\n",
      "x3 = 13.5\n",
      "Type of x1 : <class 'numpy.int64'>\n",
      "Type of x2 : <class 'numpy.float64'>\n",
      "Type of x3 : <class 'numpy.float64'>\n"
     ]
    }
   ],
   "source": [
    "x1 = s1 + 20\n",
    "x2 = s2 + 2.5\n",
    "x3 = s1 + s2\n",
    "print('x1 = ' + str(x1))\n",
    "print('x2 = ' + str(x2))\n",
    "print('x3 = ' + str(x3))\n",
    "print('Type of x1 :', type(x1)) # Notice, the type is NumPy type\n",
    "print('Type of x2 :', type(x2)) # Notice, the type is NumPy type\n",
    "print('Type of x3 :', type(x3)) # Notice, the type is NumPy type"
   ]
  },
  {
   "cell_type": "markdown",
   "metadata": {},
   "source": [
    "By the way, even scalar types support most of the array functions. Here, `x1` is a scalar of type `numpy.int64`. Try calling `x1.shape`, in which shape is a property of arrays."
   ]
  },
  {
   "cell_type": "code",
   "execution_count": 18,
   "metadata": {},
   "outputs": [
    {
     "name": "stdout",
     "output_type": "stream",
     "text": [
      "Shape of x1 : ()\n"
     ]
    }
   ],
   "source": [
    "print('Shape of x1 :', x1.shape) # 0 dimension"
   ]
  },
  {
   "cell_type": "markdown",
   "metadata": {},
   "source": [
    "### Vectors\n",
    "To create a vector, pass a Python list to the `array` function:"
   ]
  },
  {
   "cell_type": "code",
   "execution_count": 19,
   "metadata": {
    "scrolled": true
   },
   "outputs": [
    {
     "name": "stdout",
     "output_type": "stream",
     "text": [
      "v = [1 2 3]\n",
      "Shape of v: (3,)\n"
     ]
    }
   ],
   "source": [
    "v = np.array([1,2,3])\n",
    "print('v =', v)\n",
    "print('Shape of v:', v.shape)"
   ]
  },
  {
   "cell_type": "markdown",
   "metadata": {},
   "source": [
    "A vector's `shape` attributue will return a single number representing the vector's 1-D length.\n",
    "We can access an element within the vector using indices, for example:"
   ]
  },
  {
   "cell_type": "code",
   "execution_count": 20,
   "metadata": {},
   "outputs": [
    {
     "name": "stdout",
     "output_type": "stream",
     "text": [
      "1\n",
      "2\n",
      "3\n",
      "3\n",
      "2\n"
     ]
    }
   ],
   "source": [
    "print(v[0]) # 1\n",
    "print(v[1]) # 2\n",
    "print(v[2]) # 3\n",
    "print(v[-1]) # 3, the last element\n",
    "print(v[-2])"
   ]
  },
  {
   "cell_type": "markdown",
   "metadata": {},
   "source": [
    "NumPy also supports advanced indexing technqiues. This is called [slicing](https://docs.scipy.org/doc/numpy/reference/arrays.indexing.html)"
   ]
  },
  {
   "cell_type": "code",
   "execution_count": 22,
   "metadata": {},
   "outputs": [
    {
     "name": "stdout",
     "output_type": "stream",
     "text": [
      "[1 2 3 4 5 6]\n",
      "[2 3 4 5 6]\n",
      "[4 5 6]\n"
     ]
    }
   ],
   "source": [
    "v = np.array([1,2,3,4,5,6])\n",
    "print(v)\n",
    "print(v[1:]) # access the items from index 1 onwards (0-based)\n",
    "print(v[3:]) # access the items from index 3 onwards"
   ]
  },
  {
   "cell_type": "code",
   "execution_count": 28,
   "metadata": {},
   "outputs": [
    {
     "name": "stdout",
     "output_type": "stream",
     "text": [
      "[0 1 2 3 4 5 6 7 8 9]\n",
      "[0 2 4 6 8]\n",
      "[1 3 5 7]\n",
      "[0 2 4 6 8]\n"
     ]
    }
   ],
   "source": [
    "v = np.array([0,1,2,3,4,5,6,7,8,9])\n",
    "print(v)\n",
    "print(v[0:9:2]) # start from index 0 to 9 with step = 2 \n",
    "print(v[1:9:2]) # start from index 1 to 9 with step = 2\n",
    "print(v[0:-1:2])"
   ]
  },
  {
   "cell_type": "markdown",
   "metadata": {},
   "source": [
    "### Matrices\n",
    "We create matrices using NumPy's `array` function but, instead of passing in a list, we need to pass a list of lists, when each list represents a row."
   ]
  },
  {
   "cell_type": "code",
   "execution_count": 31,
   "metadata": {},
   "outputs": [
    {
     "name": "stdout",
     "output_type": "stream",
     "text": [
      "m1: [[1 2]\n",
      " [3 4]\n",
      " [5 6]]\n",
      "m1 shape: (3, 2)\n",
      "m2: [[1]\n",
      " [2]\n",
      " [3]]\n",
      "m2 shape: (3, 1)\n"
     ]
    }
   ],
   "source": [
    "m1 = np.array([[1,2],[3,4],[5,6]])\n",
    "m2 = np.array([[1],[2],[3]])\n",
    "print('m1:',m1)\n",
    "print('m1 shape:', m1.shape)\n",
    "print('m2:',m2)\n",
    "print('m2 shape:', m2.shape)"
   ]
  },
  {
   "cell_type": "markdown",
   "metadata": {},
   "source": [
    "To access elements of matrices, we use two index values: row index and column index."
   ]
  },
  {
   "cell_type": "code",
   "execution_count": 32,
   "metadata": {},
   "outputs": [
    {
     "name": "stdout",
     "output_type": "stream",
     "text": [
      "m1[0][1]: 2\n",
      "m1[2][0]: 5\n"
     ]
    }
   ],
   "source": [
    "print('m1[0][1]:', m1[0][1])\n",
    "print('m1[2][0]:', m1[2][0])"
   ]
  },
  {
   "cell_type": "markdown",
   "metadata": {},
   "source": [
    "### Tensors\n",
    "Tensors are just like vectors and matrices but they can have more dimensions. "
   ]
  },
  {
   "cell_type": "code",
   "execution_count": 38,
   "metadata": {},
   "outputs": [
    {
     "name": "stdout",
     "output_type": "stream",
     "text": [
      "t1: [[[   1    2]\n",
      "  [   3    4]\n",
      "  [   5    6]]\n",
      "\n",
      " [[  11   12]\n",
      "  [  13   14]\n",
      "  [  15   16]]\n",
      "\n",
      " [[ 111  112]\n",
      "  [ 113  114]\n",
      "  [ 115  116]]\n",
      "\n",
      " [[1111 1112]\n",
      "  [1113 1114]\n",
      "  [1115 1116]]]\n",
      "(4, 3, 2)\n"
     ]
    }
   ],
   "source": [
    "# 3D tensor : 4 matrices of 3 rows x 2 columns \n",
    "t1 = np.array([[[1,2],[3,4],[5,6]],\\\n",
    "               [[11,12],[13,14],[15,16]],\\\n",
    "               [[111,112],[113,114],[115,116]],\\\n",
    "               [[1111,1112],[1113,1114],[1115,1116]]])\n",
    "print('t1:', t1)\n",
    "print(t1.shape)"
   ]
  },
  {
   "cell_type": "code",
   "execution_count": 40,
   "metadata": {},
   "outputs": [
    {
     "name": "stdout",
     "output_type": "stream",
     "text": [
      "t2: [[[[   1    2]\n",
      "   [   3    4]\n",
      "   [   5    6]]\n",
      "\n",
      "  [[  11   12]\n",
      "   [  13   14]\n",
      "   [  15   16]]\n",
      "\n",
      "  [[ 111  112]\n",
      "   [ 113  114]\n",
      "   [ 115  116]]\n",
      "\n",
      "  [[1111 1112]\n",
      "   [1113 1114]\n",
      "   [1115 1116]]]\n",
      "\n",
      "\n",
      " [[[  51   52]\n",
      "   [  53   54]\n",
      "   [  55   56]]\n",
      "\n",
      "  [[  51   12]\n",
      "   [  13   14]\n",
      "   [  15   16]]\n",
      "\n",
      "  [[ 511  112]\n",
      "   [ 113  114]\n",
      "   [ 115  116]]\n",
      "\n",
      "  [[5111 1112]\n",
      "   [1113 1114]\n",
      "   [1115 1116]]]]\n",
      "(2, 4, 3, 2)\n"
     ]
    }
   ],
   "source": [
    "# 4D tensor : 2 x (4 matrices of 3 rows x 2 columns)\n",
    "t2 = np.array([[[[1,2],[3,4],[5,6]],\\\n",
    "               [[11,12],[13,14],[15,16]],\\\n",
    "               [[111,112],[113,114],[115,116]],\\\n",
    "               [[1111,1112],[1113,1114],[1115,1116]]],\\\n",
    "               [[[51,52],[53,54],[55,56]],\\\n",
    "               [[51,12],[13,14],[15,16]],\\\n",
    "               [[511,112],[113,114],[115,116]],\\\n",
    "               [[5111,1112],[1113,1114],[1115,1116]]]              \n",
    "              ])\n",
    "print('t2:', t2)\n",
    "print(t2.shape)"
   ]
  },
  {
   "cell_type": "code",
   "execution_count": 41,
   "metadata": {},
   "outputs": [
    {
     "name": "stdout",
     "output_type": "stream",
     "text": [
      "t3: [[[  1   2]\n",
      "  [  1   2]]\n",
      "\n",
      " [[ 11  22]\n",
      "  [ 11  22]]\n",
      "\n",
      " [[111 222]\n",
      "  [111 222]]]\n",
      "(3, 2, 2)\n"
     ]
    }
   ],
   "source": [
    "# 4D tensor : (3 matrices of 2 rows x 2 columns)\n",
    "t3 = np.array([[[1,2],[1,2]],\\\n",
    "               [[11,22],[11,22]],\\\n",
    "               [[111,222],[111,222]]\n",
    "              ])\n",
    "print('t3:', t3)\n",
    "print(t3.shape)"
   ]
  },
  {
   "cell_type": "code",
   "execution_count": 50,
   "metadata": {},
   "outputs": [
    {
     "name": "stdout",
     "output_type": "stream",
     "text": [
      "t1: [1 1 1]\n",
      "t1 shape: (3,)\n",
      "t2: [[[1 1 1]]\n",
      "\n",
      " [[1 1 1]]]\n",
      "t2 shape:  (2, 1, 3)\n",
      "t2_: [[[1 1 1]]\n",
      "\n",
      " [[1 1 1]]]\n",
      "t2_ shape:  (2, 1, 3)\n",
      "t3: [[[[1 1 1]]\n",
      "\n",
      "  [[2 2 2]]]\n",
      "\n",
      "\n",
      " [[[3 3 3]]\n",
      "\n",
      "  [[4 4 4]]]]\n",
      "t3 shape:  (2, 2, 1, 3)\n"
     ]
    }
   ],
   "source": [
    "# 4D tensor : 2 x(2 matrices of 1 rows x 3 columns)\n",
    "# 1 rows x 3 cols\n",
    "t1 = np.array([1,1,1])\n",
    "print('t1:', t1)\n",
    "print('t1 shape:', t1.shape)\n",
    "# 2 matrices of 1 rows x 3 colums\n",
    "# t2 = np.array([[t1],[t1]])\n",
    "t2 = np.array([[t1],[t1]]) \n",
    "print('t2:', t2)\n",
    "print('t2 shape: ', t2.shape)\n",
    "t2_ = np.array([[[1,1,1]],[[1,1,1]]]) # equivalent to t2\n",
    "print('t2_:', t2_)\n",
    "print('t2_ shape: ', t2_.shape)\n",
    "# 2 of (2 matrices of 1 rows x 3 columns)\n",
    "t3 = np.array([\n",
    "              [[[1,1,1]],[[2,2,2]]],\\\n",
    "              [[[3,3,3]],[[4,4,4]]]\n",
    "              ])\n",
    "print('t3:', t3)\n",
    "print('t3 shape: ', t3.shape)"
   ]
  },
  {
   "cell_type": "markdown",
   "metadata": {},
   "source": [
    "### Changing Shapes\n",
    "\n",
    "Sometimes, we'll need to change the shape of our data without changing its content. "
   ]
  },
  {
   "cell_type": "code",
   "execution_count": 51,
   "metadata": {},
   "outputs": [
    {
     "name": "stdout",
     "output_type": "stream",
     "text": [
      "(4,)\n"
     ]
    }
   ],
   "source": [
    "v = np.array([1,2,3,4])\n",
    "print(v.shape) # this is a vector"
   ]
  },
  {
   "cell_type": "markdown",
   "metadata": {},
   "source": [
    "What if we want a $1x4$ matrix or a $4x1$ matrix ? We can accomplishe that with a [reshape](https://docs.scipy.org/doc/numpy/reference/generated/numpy.reshape.html) function."
   ]
  },
  {
   "cell_type": "code",
   "execution_count": 52,
   "metadata": {},
   "outputs": [
    {
     "name": "stdout",
     "output_type": "stream",
     "text": [
      "x1: [[1 2 3 4]]\n",
      "(1, 4)\n"
     ]
    }
   ],
   "source": [
    "x1 = v.reshape(1,4)\n",
    "print('x1:', x1)\n",
    "print(x1.shape)"
   ]
  },
  {
   "cell_type": "code",
   "execution_count": 53,
   "metadata": {},
   "outputs": [
    {
     "name": "stdout",
     "output_type": "stream",
     "text": [
      "x2: [[1]\n",
      " [2]\n",
      " [3]\n",
      " [4]]\n",
      "(4, 1)\n"
     ]
    }
   ],
   "source": [
    "x2 = v.reshape(4,1)\n",
    "print('x2:', x2)\n",
    "print(x2.shape)"
   ]
  },
  {
   "cell_type": "markdown",
   "metadata": {},
   "source": [
    "We could also use a slicing syntax instead of __reshape__."
   ]
  },
  {
   "cell_type": "code",
   "execution_count": 54,
   "metadata": {},
   "outputs": [
    {
     "name": "stdout",
     "output_type": "stream",
     "text": [
      "x1: [[1 2 3 4]]\n",
      "(1, 4)\n",
      "x2: [[1]\n",
      " [2]\n",
      " [3]\n",
      " [4]]\n",
      "(4, 1)\n"
     ]
    }
   ],
   "source": [
    "x1 = v[None,:] # keep the number of columns\n",
    "print('x1:', x1)\n",
    "print(x1.shape)\n",
    "x2 = v[:,None] # keep the number of rows\n",
    "print('x2:', x2)\n",
    "print(x2.shape)"
   ]
  }
 ],
 "metadata": {
  "kernelspec": {
   "display_name": "Python 3",
   "language": "python",
   "name": "python3"
  },
  "language_info": {
   "codemirror_mode": {
    "name": "ipython",
    "version": 3
   },
   "file_extension": ".py",
   "mimetype": "text/x-python",
   "name": "python",
   "nbconvert_exporter": "python",
   "pygments_lexer": "ipython3",
   "version": "3.5.2"
  }
 },
 "nbformat": 4,
 "nbformat_minor": 2
}
