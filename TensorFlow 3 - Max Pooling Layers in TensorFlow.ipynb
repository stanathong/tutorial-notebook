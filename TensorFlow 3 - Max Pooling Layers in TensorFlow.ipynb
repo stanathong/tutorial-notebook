{
 "cells": [
  {
   "cell_type": "markdown",
   "metadata": {},
   "source": [
    "### Max Pooling Layers in TensorFlow\n",
    "\n",
    "If we have a tensor with values `[[1,0],[4,6]]`, after applying a max pooling operation of size `[2x2]`, we get `6` because 6 is the maximum value in the range of `[2x2]`.  \n",
    "\n",
    "The benefit of the max pooling operation is to reduce the size of the input, and allow the neural network to focus on only the most important elements. Max pooling does this by only retaining the maximum value for each filtered area, and removing the remaining values.  \n",
    "\n",
    "We apply __max pooling__ to our data by using the `tf.nn.max_pool()` function.  \n",
    "\n",
    "The `tf.nn.max_pool()` function is defined as  \n",
    "\n",
    "```\n",
    "tf.nn.max_pool(\n",
    "   input,\n",
    "   ksize,\n",
    "   strides,\n",
    "   padding,\n",
    "   data_format = 'NHWC',\n",
    "   name = None\n",
    ")\n",
    "```\n",
    "The function performs max pooling on the input with the size of the filter defined as `ksize` and `strides`. The 2x2 filters with a stride of 2x2 are common i.e. it reduces the size of the input by half.  \n",
    "\n",
    "The `ksize` and `strides` parameters are structured as 4-element lists, with each element corresponding to a dimension of the input tensor(`[batch, height, width, channels]`). Note that the batch and channel dimensions are usally set to `1` for both `ksize` and `strides`."
   ]
  },
  {
   "cell_type": "code",
   "execution_count": 2,
   "metadata": {},
   "outputs": [
    {
     "name": "stdout",
     "output_type": "stream",
     "text": [
      "(1, 2, 2, 3)\n",
      "(1, 1, 1, 3)\n"
     ]
    }
   ],
   "source": [
    "import tensorflow as tf\n",
    "import numpy as np\n",
    "\n",
    "# Construct the input to be 4D (batch_size, height, width, depth)\n",
    "# (1, 4, 4, 1)\n",
    "x = np.array([\n",
    "    [0, 1, 0.5, 10],\n",
    "    [2, 2.5, 1, -8],\n",
    "    [4, 0, 5, 6],\n",
    "    [15, 1, 2, 3]], dtype = np.float32).reshape((1,4,4,1))\n",
    "# print(x.shape) # (1, 4, 4, 1)\n",
    "X = tf.constant(x)\n",
    "\n",
    "def conv2d(input):\n",
    "    # The output shape is (1, 2, 2, 3) --> output_depth = 3\n",
    "    # The shape of the filter weight is (height, width, input_depth, output_depth) \n",
    "    F_W = tf.Variable(tf.truncated_normal([3, 3, 1, 3])) # initialise weights to random numbers\n",
    "    F_b = tf.Variable(tf.zeros(3)) # initialise bias to zeros\n",
    "    strides = [1,1,1,1]\n",
    "    padding = 'VALID'\n",
    "    # compute the convolution: input * W\n",
    "    conv = tf.nn.conv2d(input, F_W, strides, padding)\n",
    "    # add the bias: input * W + bias\n",
    "    conv = tf.nn.bias_add(conv, F_b)\n",
    "    # apply the relu activation function\n",
    "    conv = tf.nn.relu(conv)\n",
    "    return conv\n",
    "\n",
    "def max_pool(input):\n",
    "    return tf.nn.max_pool(\n",
    "                input,\n",
    "                ksize = [1,2,2,1], # filter of size 2x2\n",
    "                strides = [1,2,2,1], # stride of 2 for vertical and horizontal direction\n",
    "                padding = 'VALID')\n",
    "    \n",
    "# Convolution\n",
    "conv = conv2d(X)\n",
    "print(conv.shape)\n",
    "\n",
    "# Max-pooling\n",
    "maxpool = max_pool(conv)\n",
    "print(maxpool.shape)"
   ]
  }
 ],
 "metadata": {
  "kernelspec": {
   "display_name": "Python 3",
   "language": "python",
   "name": "python3"
  },
  "language_info": {
   "codemirror_mode": {
    "name": "ipython",
    "version": 3
   },
   "file_extension": ".py",
   "mimetype": "text/x-python",
   "name": "python",
   "nbconvert_exporter": "python",
   "pygments_lexer": "ipython3",
   "version": "3.5.2"
  }
 },
 "nbformat": 4,
 "nbformat_minor": 2
}
